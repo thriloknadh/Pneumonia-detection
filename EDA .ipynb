{
  "cells": [
    {
      "cell_type": "code",
      "source": [
        "pip install pydicom"
      ],
      "metadata": {
        "colab": {
          "base_uri": "https://localhost:8080/"
        },
        "id": "4COneBmwFdvS",
        "outputId": "3b84c71d-be61-49d7-b3ed-5741f6ccf596"
      },
      "execution_count": 1,
      "outputs": [
        {
          "output_type": "stream",
          "name": "stdout",
          "text": [
            "Collecting pydicom\n",
            "  Downloading pydicom-2.2.2-py3-none-any.whl (2.0 MB)\n",
            "\u001b[?25l\r\u001b[K     |▏                               | 10 kB 23.4 MB/s eta 0:00:01\r\u001b[K     |▍                               | 20 kB 24.5 MB/s eta 0:00:01\r\u001b[K     |▌                               | 30 kB 26.5 MB/s eta 0:00:01\r\u001b[K     |▊                               | 40 kB 28.5 MB/s eta 0:00:01\r\u001b[K     |▉                               | 51 kB 31.1 MB/s eta 0:00:01\r\u001b[K     |█                               | 61 kB 32.5 MB/s eta 0:00:01\r\u001b[K     |█▏                              | 71 kB 33.1 MB/s eta 0:00:01\r\u001b[K     |█▍                              | 81 kB 33.9 MB/s eta 0:00:01\r\u001b[K     |█▌                              | 92 kB 28.6 MB/s eta 0:00:01\r\u001b[K     |█▊                              | 102 kB 29.3 MB/s eta 0:00:01\r\u001b[K     |█▉                              | 112 kB 29.3 MB/s eta 0:00:01\r\u001b[K     |██                              | 122 kB 29.3 MB/s eta 0:00:01\r\u001b[K     |██▏                             | 133 kB 29.3 MB/s eta 0:00:01\r\u001b[K     |██▍                             | 143 kB 29.3 MB/s eta 0:00:01\r\u001b[K     |██▌                             | 153 kB 29.3 MB/s eta 0:00:01\r\u001b[K     |██▊                             | 163 kB 29.3 MB/s eta 0:00:01\r\u001b[K     |██▉                             | 174 kB 29.3 MB/s eta 0:00:01\r\u001b[K     |███                             | 184 kB 29.3 MB/s eta 0:00:01\r\u001b[K     |███▏                            | 194 kB 29.3 MB/s eta 0:00:01\r\u001b[K     |███▍                            | 204 kB 29.3 MB/s eta 0:00:01\r\u001b[K     |███▌                            | 215 kB 29.3 MB/s eta 0:00:01\r\u001b[K     |███▊                            | 225 kB 29.3 MB/s eta 0:00:01\r\u001b[K     |███▉                            | 235 kB 29.3 MB/s eta 0:00:01\r\u001b[K     |████                            | 245 kB 29.3 MB/s eta 0:00:01\r\u001b[K     |████▏                           | 256 kB 29.3 MB/s eta 0:00:01\r\u001b[K     |████▍                           | 266 kB 29.3 MB/s eta 0:00:01\r\u001b[K     |████▌                           | 276 kB 29.3 MB/s eta 0:00:01\r\u001b[K     |████▊                           | 286 kB 29.3 MB/s eta 0:00:01\r\u001b[K     |████▉                           | 296 kB 29.3 MB/s eta 0:00:01\r\u001b[K     |█████                           | 307 kB 29.3 MB/s eta 0:00:01\r\u001b[K     |█████▏                          | 317 kB 29.3 MB/s eta 0:00:01\r\u001b[K     |█████▍                          | 327 kB 29.3 MB/s eta 0:00:01\r\u001b[K     |█████▌                          | 337 kB 29.3 MB/s eta 0:00:01\r\u001b[K     |█████▊                          | 348 kB 29.3 MB/s eta 0:00:01\r\u001b[K     |█████▉                          | 358 kB 29.3 MB/s eta 0:00:01\r\u001b[K     |██████                          | 368 kB 29.3 MB/s eta 0:00:01\r\u001b[K     |██████▏                         | 378 kB 29.3 MB/s eta 0:00:01\r\u001b[K     |██████▍                         | 389 kB 29.3 MB/s eta 0:00:01\r\u001b[K     |██████▌                         | 399 kB 29.3 MB/s eta 0:00:01\r\u001b[K     |██████▊                         | 409 kB 29.3 MB/s eta 0:00:01\r\u001b[K     |██████▉                         | 419 kB 29.3 MB/s eta 0:00:01\r\u001b[K     |███████                         | 430 kB 29.3 MB/s eta 0:00:01\r\u001b[K     |███████▎                        | 440 kB 29.3 MB/s eta 0:00:01\r\u001b[K     |███████▍                        | 450 kB 29.3 MB/s eta 0:00:01\r\u001b[K     |███████▋                        | 460 kB 29.3 MB/s eta 0:00:01\r\u001b[K     |███████▊                        | 471 kB 29.3 MB/s eta 0:00:01\r\u001b[K     |████████                        | 481 kB 29.3 MB/s eta 0:00:01\r\u001b[K     |████████                        | 491 kB 29.3 MB/s eta 0:00:01\r\u001b[K     |████████▎                       | 501 kB 29.3 MB/s eta 0:00:01\r\u001b[K     |████████▍                       | 512 kB 29.3 MB/s eta 0:00:01\r\u001b[K     |████████▋                       | 522 kB 29.3 MB/s eta 0:00:01\r\u001b[K     |████████▊                       | 532 kB 29.3 MB/s eta 0:00:01\r\u001b[K     |█████████                       | 542 kB 29.3 MB/s eta 0:00:01\r\u001b[K     |█████████                       | 552 kB 29.3 MB/s eta 0:00:01\r\u001b[K     |█████████▎                      | 563 kB 29.3 MB/s eta 0:00:01\r\u001b[K     |█████████▍                      | 573 kB 29.3 MB/s eta 0:00:01\r\u001b[K     |█████████▋                      | 583 kB 29.3 MB/s eta 0:00:01\r\u001b[K     |█████████▊                      | 593 kB 29.3 MB/s eta 0:00:01\r\u001b[K     |██████████                      | 604 kB 29.3 MB/s eta 0:00:01\r\u001b[K     |██████████                      | 614 kB 29.3 MB/s eta 0:00:01\r\u001b[K     |██████████▎                     | 624 kB 29.3 MB/s eta 0:00:01\r\u001b[K     |██████████▍                     | 634 kB 29.3 MB/s eta 0:00:01\r\u001b[K     |██████████▋                     | 645 kB 29.3 MB/s eta 0:00:01\r\u001b[K     |██████████▊                     | 655 kB 29.3 MB/s eta 0:00:01\r\u001b[K     |███████████                     | 665 kB 29.3 MB/s eta 0:00:01\r\u001b[K     |███████████                     | 675 kB 29.3 MB/s eta 0:00:01\r\u001b[K     |███████████▎                    | 686 kB 29.3 MB/s eta 0:00:01\r\u001b[K     |███████████▍                    | 696 kB 29.3 MB/s eta 0:00:01\r\u001b[K     |███████████▋                    | 706 kB 29.3 MB/s eta 0:00:01\r\u001b[K     |███████████▊                    | 716 kB 29.3 MB/s eta 0:00:01\r\u001b[K     |████████████                    | 727 kB 29.3 MB/s eta 0:00:01\r\u001b[K     |████████████                    | 737 kB 29.3 MB/s eta 0:00:01\r\u001b[K     |████████████▎                   | 747 kB 29.3 MB/s eta 0:00:01\r\u001b[K     |████████████▍                   | 757 kB 29.3 MB/s eta 0:00:01\r\u001b[K     |████████████▋                   | 768 kB 29.3 MB/s eta 0:00:01\r\u001b[K     |████████████▊                   | 778 kB 29.3 MB/s eta 0:00:01\r\u001b[K     |█████████████                   | 788 kB 29.3 MB/s eta 0:00:01\r\u001b[K     |█████████████                   | 798 kB 29.3 MB/s eta 0:00:01\r\u001b[K     |█████████████▎                  | 808 kB 29.3 MB/s eta 0:00:01\r\u001b[K     |█████████████▍                  | 819 kB 29.3 MB/s eta 0:00:01\r\u001b[K     |█████████████▋                  | 829 kB 29.3 MB/s eta 0:00:01\r\u001b[K     |█████████████▊                  | 839 kB 29.3 MB/s eta 0:00:01\r\u001b[K     |██████████████                  | 849 kB 29.3 MB/s eta 0:00:01\r\u001b[K     |██████████████                  | 860 kB 29.3 MB/s eta 0:00:01\r\u001b[K     |██████████████▎                 | 870 kB 29.3 MB/s eta 0:00:01\r\u001b[K     |██████████████▌                 | 880 kB 29.3 MB/s eta 0:00:01\r\u001b[K     |██████████████▋                 | 890 kB 29.3 MB/s eta 0:00:01\r\u001b[K     |██████████████▉                 | 901 kB 29.3 MB/s eta 0:00:01\r\u001b[K     |███████████████                 | 911 kB 29.3 MB/s eta 0:00:01\r\u001b[K     |███████████████▏                | 921 kB 29.3 MB/s eta 0:00:01\r\u001b[K     |███████████████▎                | 931 kB 29.3 MB/s eta 0:00:01\r\u001b[K     |███████████████▌                | 942 kB 29.3 MB/s eta 0:00:01\r\u001b[K     |███████████████▋                | 952 kB 29.3 MB/s eta 0:00:01\r\u001b[K     |███████████████▉                | 962 kB 29.3 MB/s eta 0:00:01\r\u001b[K     |████████████████                | 972 kB 29.3 MB/s eta 0:00:01\r\u001b[K     |████████████████▏               | 983 kB 29.3 MB/s eta 0:00:01\r\u001b[K     |████████████████▎               | 993 kB 29.3 MB/s eta 0:00:01\r\u001b[K     |████████████████▌               | 1.0 MB 29.3 MB/s eta 0:00:01\r\u001b[K     |████████████████▋               | 1.0 MB 29.3 MB/s eta 0:00:01\r\u001b[K     |████████████████▉               | 1.0 MB 29.3 MB/s eta 0:00:01\r\u001b[K     |█████████████████               | 1.0 MB 29.3 MB/s eta 0:00:01\r\u001b[K     |█████████████████▏              | 1.0 MB 29.3 MB/s eta 0:00:01\r\u001b[K     |█████████████████▎              | 1.1 MB 29.3 MB/s eta 0:00:01\r\u001b[K     |█████████████████▌              | 1.1 MB 29.3 MB/s eta 0:00:01\r\u001b[K     |█████████████████▋              | 1.1 MB 29.3 MB/s eta 0:00:01\r\u001b[K     |█████████████████▉              | 1.1 MB 29.3 MB/s eta 0:00:01\r\u001b[K     |██████████████████              | 1.1 MB 29.3 MB/s eta 0:00:01\r\u001b[K     |██████████████████▏             | 1.1 MB 29.3 MB/s eta 0:00:01\r\u001b[K     |██████████████████▎             | 1.1 MB 29.3 MB/s eta 0:00:01\r\u001b[K     |██████████████████▌             | 1.1 MB 29.3 MB/s eta 0:00:01\r\u001b[K     |██████████████████▋             | 1.1 MB 29.3 MB/s eta 0:00:01\r\u001b[K     |██████████████████▉             | 1.1 MB 29.3 MB/s eta 0:00:01\r\u001b[K     |███████████████████             | 1.2 MB 29.3 MB/s eta 0:00:01\r\u001b[K     |███████████████████▏            | 1.2 MB 29.3 MB/s eta 0:00:01\r\u001b[K     |███████████████████▎            | 1.2 MB 29.3 MB/s eta 0:00:01\r\u001b[K     |███████████████████▌            | 1.2 MB 29.3 MB/s eta 0:00:01\r\u001b[K     |███████████████████▋            | 1.2 MB 29.3 MB/s eta 0:00:01\r\u001b[K     |███████████████████▉            | 1.2 MB 29.3 MB/s eta 0:00:01\r\u001b[K     |████████████████████            | 1.2 MB 29.3 MB/s eta 0:00:01\r\u001b[K     |████████████████████▏           | 1.2 MB 29.3 MB/s eta 0:00:01\r\u001b[K     |████████████████████▎           | 1.2 MB 29.3 MB/s eta 0:00:01\r\u001b[K     |████████████████████▌           | 1.2 MB 29.3 MB/s eta 0:00:01\r\u001b[K     |████████████████████▋           | 1.3 MB 29.3 MB/s eta 0:00:01\r\u001b[K     |████████████████████▉           | 1.3 MB 29.3 MB/s eta 0:00:01\r\u001b[K     |█████████████████████           | 1.3 MB 29.3 MB/s eta 0:00:01\r\u001b[K     |█████████████████████▏          | 1.3 MB 29.3 MB/s eta 0:00:01\r\u001b[K     |█████████████████████▎          | 1.3 MB 29.3 MB/s eta 0:00:01\r\u001b[K     |█████████████████████▌          | 1.3 MB 29.3 MB/s eta 0:00:01\r\u001b[K     |█████████████████████▊          | 1.3 MB 29.3 MB/s eta 0:00:01\r\u001b[K     |█████████████████████▉          | 1.3 MB 29.3 MB/s eta 0:00:01\r\u001b[K     |██████████████████████          | 1.3 MB 29.3 MB/s eta 0:00:01\r\u001b[K     |██████████████████████▏         | 1.4 MB 29.3 MB/s eta 0:00:01\r\u001b[K     |██████████████████████▍         | 1.4 MB 29.3 MB/s eta 0:00:01\r\u001b[K     |██████████████████████▌         | 1.4 MB 29.3 MB/s eta 0:00:01\r\u001b[K     |██████████████████████▊         | 1.4 MB 29.3 MB/s eta 0:00:01\r\u001b[K     |██████████████████████▉         | 1.4 MB 29.3 MB/s eta 0:00:01\r\u001b[K     |███████████████████████         | 1.4 MB 29.3 MB/s eta 0:00:01\r\u001b[K     |███████████████████████▏        | 1.4 MB 29.3 MB/s eta 0:00:01\r\u001b[K     |███████████████████████▍        | 1.4 MB 29.3 MB/s eta 0:00:01\r\u001b[K     |███████████████████████▌        | 1.4 MB 29.3 MB/s eta 0:00:01\r\u001b[K     |███████████████████████▊        | 1.4 MB 29.3 MB/s eta 0:00:01\r\u001b[K     |███████████████████████▉        | 1.5 MB 29.3 MB/s eta 0:00:01\r\u001b[K     |████████████████████████        | 1.5 MB 29.3 MB/s eta 0:00:01\r\u001b[K     |████████████████████████▏       | 1.5 MB 29.3 MB/s eta 0:00:01\r\u001b[K     |████████████████████████▍       | 1.5 MB 29.3 MB/s eta 0:00:01\r\u001b[K     |████████████████████████▌       | 1.5 MB 29.3 MB/s eta 0:00:01\r\u001b[K     |████████████████████████▊       | 1.5 MB 29.3 MB/s eta 0:00:01\r\u001b[K     |████████████████████████▉       | 1.5 MB 29.3 MB/s eta 0:00:01\r\u001b[K     |█████████████████████████       | 1.5 MB 29.3 MB/s eta 0:00:01\r\u001b[K     |█████████████████████████▏      | 1.5 MB 29.3 MB/s eta 0:00:01\r\u001b[K     |█████████████████████████▍      | 1.5 MB 29.3 MB/s eta 0:00:01\r\u001b[K     |█████████████████████████▌      | 1.6 MB 29.3 MB/s eta 0:00:01\r\u001b[K     |█████████████████████████▊      | 1.6 MB 29.3 MB/s eta 0:00:01\r\u001b[K     |█████████████████████████▉      | 1.6 MB 29.3 MB/s eta 0:00:01\r\u001b[K     |██████████████████████████      | 1.6 MB 29.3 MB/s eta 0:00:01\r\u001b[K     |██████████████████████████▏     | 1.6 MB 29.3 MB/s eta 0:00:01\r\u001b[K     |██████████████████████████▍     | 1.6 MB 29.3 MB/s eta 0:00:01\r\u001b[K     |██████████████████████████▌     | 1.6 MB 29.3 MB/s eta 0:00:01\r\u001b[K     |██████████████████████████▊     | 1.6 MB 29.3 MB/s eta 0:00:01\r\u001b[K     |██████████████████████████▉     | 1.6 MB 29.3 MB/s eta 0:00:01\r\u001b[K     |███████████████████████████     | 1.6 MB 29.3 MB/s eta 0:00:01\r\u001b[K     |███████████████████████████▏    | 1.7 MB 29.3 MB/s eta 0:00:01\r\u001b[K     |███████████████████████████▍    | 1.7 MB 29.3 MB/s eta 0:00:01\r\u001b[K     |███████████████████████████▌    | 1.7 MB 29.3 MB/s eta 0:00:01\r\u001b[K     |███████████████████████████▊    | 1.7 MB 29.3 MB/s eta 0:00:01\r\u001b[K     |███████████████████████████▉    | 1.7 MB 29.3 MB/s eta 0:00:01\r\u001b[K     |████████████████████████████    | 1.7 MB 29.3 MB/s eta 0:00:01\r\u001b[K     |████████████████████████████▏   | 1.7 MB 29.3 MB/s eta 0:00:01\r\u001b[K     |████████████████████████████▍   | 1.7 MB 29.3 MB/s eta 0:00:01\r\u001b[K     |████████████████████████████▌   | 1.7 MB 29.3 MB/s eta 0:00:01\r\u001b[K     |████████████████████████████▊   | 1.8 MB 29.3 MB/s eta 0:00:01\r\u001b[K     |█████████████████████████████   | 1.8 MB 29.3 MB/s eta 0:00:01\r\u001b[K     |█████████████████████████████   | 1.8 MB 29.3 MB/s eta 0:00:01\r\u001b[K     |█████████████████████████████▎  | 1.8 MB 29.3 MB/s eta 0:00:01\r\u001b[K     |█████████████████████████████▍  | 1.8 MB 29.3 MB/s eta 0:00:01\r\u001b[K     |█████████████████████████████▋  | 1.8 MB 29.3 MB/s eta 0:00:01\r\u001b[K     |█████████████████████████████▊  | 1.8 MB 29.3 MB/s eta 0:00:01\r\u001b[K     |██████████████████████████████  | 1.8 MB 29.3 MB/s eta 0:00:01\r\u001b[K     |██████████████████████████████  | 1.8 MB 29.3 MB/s eta 0:00:01\r\u001b[K     |██████████████████████████████▎ | 1.8 MB 29.3 MB/s eta 0:00:01\r\u001b[K     |██████████████████████████████▍ | 1.9 MB 29.3 MB/s eta 0:00:01\r\u001b[K     |██████████████████████████████▋ | 1.9 MB 29.3 MB/s eta 0:00:01\r\u001b[K     |██████████████████████████████▊ | 1.9 MB 29.3 MB/s eta 0:00:01\r\u001b[K     |███████████████████████████████ | 1.9 MB 29.3 MB/s eta 0:00:01\r\u001b[K     |███████████████████████████████ | 1.9 MB 29.3 MB/s eta 0:00:01\r\u001b[K     |███████████████████████████████▎| 1.9 MB 29.3 MB/s eta 0:00:01\r\u001b[K     |███████████████████████████████▍| 1.9 MB 29.3 MB/s eta 0:00:01\r\u001b[K     |███████████████████████████████▋| 1.9 MB 29.3 MB/s eta 0:00:01\r\u001b[K     |███████████████████████████████▊| 1.9 MB 29.3 MB/s eta 0:00:01\r\u001b[K     |████████████████████████████████| 1.9 MB 29.3 MB/s eta 0:00:01\r\u001b[K     |████████████████████████████████| 2.0 MB 29.3 MB/s \n",
            "\u001b[?25hInstalling collected packages: pydicom\n",
            "Successfully installed pydicom-2.2.2\n"
          ]
        }
      ]
    },
    {
      "cell_type": "code",
      "execution_count": 2,
      "metadata": {
        "id": "b4tGSnK_CpYF"
      },
      "outputs": [],
      "source": [
        "import numpy as np # linear algebra\n",
        "import pandas as pd # data processing, CSV file I/O (e.g. pd.read_csv)\n",
        "import os\n",
        "from glob import glob\n",
        "%matplotlib inline\n",
        "import matplotlib.pyplot as plt\n",
        "import seaborn as sns\n",
        "\n",
        "##Import any other packages you may need here\n",
        "from itertools import chain\n",
        "import pydicom\n",
        "from skimage import io"
      ]
    },
    {
      "cell_type": "code",
      "execution_count": 10,
      "metadata": {
        "colab": {
          "base_uri": "https://localhost:8080/",
          "height": 181
        },
        "id": "qGRVdUjoCpYK",
        "outputId": "be23f453-22fe-4076-b5c5-b71a5651417a"
      },
      "outputs": [
        {
          "output_type": "execute_result",
          "data": {
            "text/html": [
              "<div>\n",
              "<style scoped>\n",
              "    .dataframe tbody tr th:only-of-type {\n",
              "        vertical-align: middle;\n",
              "    }\n",
              "\n",
              "    .dataframe tbody tr th {\n",
              "        vertical-align: top;\n",
              "    }\n",
              "\n",
              "    .dataframe thead th {\n",
              "        text-align: right;\n",
              "    }\n",
              "</style>\n",
              "<table border=\"1\" class=\"dataframe\">\n",
              "  <thead>\n",
              "    <tr style=\"text-align: right;\">\n",
              "      <th></th>\n",
              "      <th>Image Index</th>\n",
              "      <th>Finding Labels</th>\n",
              "      <th>Follow-up #</th>\n",
              "      <th>Patient ID</th>\n",
              "      <th>Patient Age</th>\n",
              "      <th>Patient Gender</th>\n",
              "      <th>View Position</th>\n",
              "      <th>OriginalImageWidth</th>\n",
              "      <th>OriginalImageHeight</th>\n",
              "      <th>OriginalImagePixelSpacing_x</th>\n",
              "      <th>OriginalImagePixelSpacing_y</th>\n",
              "    </tr>\n",
              "  </thead>\n",
              "  <tbody>\n",
              "    <tr>\n",
              "      <th>3119</th>\n",
              "      <td>00015386_000.png</td>\n",
              "      <td>Atelectasis|Effusion</td>\n",
              "      <td>0</td>\n",
              "      <td>15386</td>\n",
              "      <td>058Y</td>\n",
              "      <td>F</td>\n",
              "      <td>PA</td>\n",
              "      <td>2646</td>\n",
              "      <td>2797</td>\n",
              "      <td>0.143</td>\n",
              "      <td>0.143</td>\n",
              "    </tr>\n",
              "    <tr>\n",
              "      <th>4754</th>\n",
              "      <td>00024749_000.png</td>\n",
              "      <td>Pneumothorax</td>\n",
              "      <td>0</td>\n",
              "      <td>24749</td>\n",
              "      <td>040Y</td>\n",
              "      <td>M</td>\n",
              "      <td>PA</td>\n",
              "      <td>2992</td>\n",
              "      <td>2991</td>\n",
              "      <td>0.143</td>\n",
              "      <td>0.143</td>\n",
              "    </tr>\n",
              "    <tr>\n",
              "      <th>1206</th>\n",
              "      <td>00006370_000.png</td>\n",
              "      <td>No Finding</td>\n",
              "      <td>0</td>\n",
              "      <td>6370</td>\n",
              "      <td>085Y</td>\n",
              "      <td>F</td>\n",
              "      <td>AP</td>\n",
              "      <td>2048</td>\n",
              "      <td>2500</td>\n",
              "      <td>0.171</td>\n",
              "      <td>0.171</td>\n",
              "    </tr>\n",
              "  </tbody>\n",
              "</table>\n",
              "</div>"
            ],
            "text/plain": [
              "           Image Index  ... OriginalImagePixelSpacing_y\n",
              "3119  00015386_000.png  ...                       0.143\n",
              "4754  00024749_000.png  ...                       0.143\n",
              "1206  00006370_000.png  ...                       0.171\n",
              "\n",
              "[3 rows x 11 columns]"
            ]
          },
          "metadata": {},
          "execution_count": 10
        }
      ],
      "source": [
        "## load data\n",
        "data = pd.read_csv('sample_labels.csv')\n",
        "data.sample(3)"
      ]
    },
    {
      "cell_type": "code",
      "execution_count": 11,
      "metadata": {
        "colab": {
          "base_uri": "https://localhost:8080/",
          "height": 215
        },
        "id": "qOpwxZkyCpYL",
        "outputId": "a04c3a1c-f701-4b41-c49c-a5a0efc9d393"
      },
      "outputs": [
        {
          "output_type": "execute_result",
          "data": {
            "text/html": [
              "<div>\n",
              "<style scoped>\n",
              "    .dataframe tbody tr th:only-of-type {\n",
              "        vertical-align: middle;\n",
              "    }\n",
              "\n",
              "    .dataframe tbody tr th {\n",
              "        vertical-align: top;\n",
              "    }\n",
              "\n",
              "    .dataframe thead th {\n",
              "        text-align: right;\n",
              "    }\n",
              "</style>\n",
              "<table border=\"1\" class=\"dataframe\">\n",
              "  <thead>\n",
              "    <tr style=\"text-align: right;\">\n",
              "      <th></th>\n",
              "      <th>Image Index</th>\n",
              "      <th>Finding Labels</th>\n",
              "      <th>Follow-up #</th>\n",
              "      <th>Patient ID</th>\n",
              "      <th>Patient Age</th>\n",
              "      <th>Patient Gender</th>\n",
              "      <th>View Position</th>\n",
              "      <th>OriginalImageWidth</th>\n",
              "      <th>OriginalImageHeight</th>\n",
              "      <th>OriginalImagePixelSpacing_x</th>\n",
              "      <th>OriginalImagePixelSpacing_y</th>\n",
              "    </tr>\n",
              "  </thead>\n",
              "  <tbody>\n",
              "    <tr>\n",
              "      <th>1150</th>\n",
              "      <td>00006039_001.png</td>\n",
              "      <td>No Finding</td>\n",
              "      <td>1</td>\n",
              "      <td>6039</td>\n",
              "      <td>058Y</td>\n",
              "      <td>M</td>\n",
              "      <td>AP</td>\n",
              "      <td>2500</td>\n",
              "      <td>2048</td>\n",
              "      <td>0.168</td>\n",
              "      <td>0.168</td>\n",
              "    </tr>\n",
              "    <tr>\n",
              "      <th>3926</th>\n",
              "      <td>00019373_025.png</td>\n",
              "      <td>Mass</td>\n",
              "      <td>25</td>\n",
              "      <td>19373</td>\n",
              "      <td>040Y</td>\n",
              "      <td>M</td>\n",
              "      <td>PA</td>\n",
              "      <td>2992</td>\n",
              "      <td>2991</td>\n",
              "      <td>0.143</td>\n",
              "      <td>0.143</td>\n",
              "    </tr>\n",
              "    <tr>\n",
              "      <th>1174</th>\n",
              "      <td>00006237_018.png</td>\n",
              "      <td>No Finding</td>\n",
              "      <td>18</td>\n",
              "      <td>6237</td>\n",
              "      <td>057Y</td>\n",
              "      <td>F</td>\n",
              "      <td>AP</td>\n",
              "      <td>2500</td>\n",
              "      <td>2048</td>\n",
              "      <td>0.171</td>\n",
              "      <td>0.171</td>\n",
              "    </tr>\n",
              "  </tbody>\n",
              "</table>\n",
              "</div>"
            ],
            "text/plain": [
              "           Image Index  ... OriginalImagePixelSpacing_y\n",
              "1150  00006039_001.png  ...                       0.168\n",
              "3926  00019373_025.png  ...                       0.143\n",
              "1174  00006237_018.png  ...                       0.171\n",
              "\n",
              "[3 rows x 11 columns]"
            ]
          },
          "metadata": {},
          "execution_count": 11
        }
      ],
      "source": [
        "## Load  data for pixel level assessments\n",
        "sample_data = pd.read_csv('sample_labels.csv')\n",
        "sample_data.sample(3)"
      ]
    },
    {
      "cell_type": "code",
      "execution_count": 12,
      "metadata": {
        "colab": {
          "base_uri": "https://localhost:8080/",
          "height": 334
        },
        "id": "HY1ftyLuCpYL",
        "outputId": "96ba24c4-bd4b-4110-85d2-75c8075fa6b5"
      },
      "outputs": [
        {
          "output_type": "execute_result",
          "data": {
            "text/plain": [
              "(array([3134.,    0.,    0.,    0.,    0.,    0.,    0.,    0.,    0.,\n",
              "        2472.]),\n",
              " array([0. , 0.1, 0.2, 0.3, 0.4, 0.5, 0.6, 0.7, 0.8, 0.9, 1. ]),\n",
              " <a list of 10 Patch objects>)"
            ]
          },
          "metadata": {},
          "execution_count": 12
        },
        {
          "output_type": "display_data",
          "data": {
            "image/png": "[encoded data removed]",
            "text/plain": [
              "<Figure size 432x288 with 1 Axes>"
            ]
          },
          "metadata": {
            "needs_background": "light"
          }
        }
      ],
      "source": [
        "## Exploratory data analysis\n",
        "\n",
        "# Patient Gender Distribution\n",
        "plt.hist(data['Patient Gender'])"
      ]
    },
    {
      "cell_type": "code",
      "execution_count": 13,
      "metadata": {
        "colab": {
          "base_uri": "https://localhost:8080/",
          "height": 317
        },
        "id": "2ps8YTJmCpYM",
        "outputId": "653d757e-ad1e-4a70-f490-b8dbac3680ad"
      },
      "outputs": [
        {
          "output_type": "execute_result",
          "data": {
            "text/plain": [
              "(array([889., 758., 846., 688., 760., 653., 412., 392., 177.,  31.]),\n",
              " array([ 0. ,  9.1, 18.2, 27.3, 36.4, 45.5, 54.6, 63.7, 72.8, 81.9, 91. ]),\n",
              " <a list of 10 Patch objects>)"
            ]
          },
          "metadata": {},
          "execution_count": 13
        },
        {
          "output_type": "display_data",
          "data": {
            "image/png": "[encoded data removed]",
            "text/plain": [
              "<Figure size 432x288 with 1 Axes>"
            ]
          },
          "metadata": {
            "needs_background": "light"
          }
        }
      ],
      "source": [
        "# Patient Age Distribution\n",
        "plt.hist(data['Patient Age'])"
      ]
    },
    {
      "cell_type": "code",
      "execution_count": 14,
      "metadata": {
        "colab": {
          "base_uri": "https://localhost:8080/",
          "height": 335
        },
        "id": "rJnVC-zvCpYM",
        "outputId": "ba5e55f6-1dac-4198-880c-11a0174b7c57"
      },
      "outputs": [
        {
          "output_type": "execute_result",
          "data": {
            "text/plain": [
              "(array([2213.,    0.,    0.,    0.,    0.,    0.,    0.,    0.,    0.,\n",
              "        3393.]),\n",
              " array([0. , 0.1, 0.2, 0.3, 0.4, 0.5, 0.6, 0.7, 0.8, 0.9, 1. ]),\n",
              " <a list of 10 Patch objects>)"
            ]
          },
          "metadata": {},
          "execution_count": 14
        },
        {
          "output_type": "display_data",
          "data": {
            "image/png": "[encoded data removed]",
            "text/plain": [
              "<Figure size 432x288 with 1 Axes>"
            ]
          },
          "metadata": {
            "needs_background": "light"
          }
        }
      ],
      "source": [
        "# View Position Distribution\n",
        "plt.hist(data['View Position'])"
      ]
    },
    {
      "cell_type": "code",
      "source": [
        "# Finding Labels Distribution\n",
        "all_labels = np.unique(list(chain(*data['Finding Labels'].map(lambda x: x.split('|')).tolist())))\n",
        "all_labels = [x for x in all_labels if len(x)>0]\n",
        "print('All Labels ({}): {}'.format(len(all_labels), all_labels))\n",
        "for labels in all_labels:\n",
        "    if len(labels)>1: \n",
        "        data[labels] = data['Finding Labels'].map(lambda finding: 1.0 if labels in finding else 0)\n",
        "data.sample(3)\n",
        "\n",
        "plots = data[all_labels]\n",
        "\n",
        "xa = plots.sum().plot(kind='bar')\n",
        "xa.set(ylabel = 'Images with Labels')"
      ],
      "metadata": {
        "colab": {
          "base_uri": "https://localhost:8080/",
          "height": 404
        },
        "id": "6psSYi3uugZd",
        "outputId": "f7c5d51b-2391-41f5-a02a-71359af7fea8"
      },
      "execution_count": 21,
      "outputs": [
        {
          "output_type": "stream",
          "name": "stdout",
          "text": [
            "All Labels (15): ['Atelectasis', 'Cardiomegaly', 'Consolidation', 'Edema', 'Effusion', 'Emphysema', 'Fibrosis', 'Hernia', 'Infiltration', 'Mass', 'No Finding', 'Nodule', 'Pleural_Thickening', 'Pneumonia', 'Pneumothorax']\n"
          ]
        },
        {
          "output_type": "execute_result",
          "data": {
            "text/plain": [
              "[Text(0, 0.5, 'Images with Labels')]"
            ]
          },
          "metadata": {},
          "execution_count": 21
        },
        {
          "output_type": "display_data",
          "data": {
            "image/png": "[encoded data removed]",
            "text/plain": [
              "<Figure size 432x288 with 1 Axes>"
            ]
          },
          "metadata": {
            "needs_background": "light"
          }
        }
      ]
    },
    {
      "cell_type": "code",
      "execution_count": 22,
      "metadata": {
        "colab": {
          "base_uri": "https://localhost:8080/"
        },
        "id": "fTIdHuV7CpYN",
        "outputId": "8ef86e27-4132-4ed6-a4e5-9a298002c4c7"
      },
      "outputs": [
        {
          "output_type": "stream",
          "name": "stdout",
          "text": [
            "Number of pneumonia cases: 62.0\n"
          ]
        }
      ],
      "source": [
        "# Number of pneumonia cases\n",
        "pneu_cases = plots['Pneumonia'].sum()\n",
        "print(f'Number of pneumonia cases: {pneu_cases}')"
      ]
    },
    {
      "cell_type": "code",
      "execution_count": 23,
      "metadata": {
        "colab": {
          "base_uri": "https://localhost:8080/"
        },
        "id": "Sh3M28VRCpYO",
        "outputId": "5a1afd03-9452-465b-a355-052091c88c99"
      },
      "outputs": [
        {
          "output_type": "stream",
          "name": "stdout",
          "text": [
            "Number of non-pneumonia cases: 5544.0\n"
          ]
        }
      ],
      "source": [
        "# Number of non-pneumonia cases\n",
        "non_pneu_cases = len(plots) - pneu_cases\n",
        "print(f'Number of non-pneumonia cases: {non_pneu_cases}')"
      ]
    },
    {
      "cell_type": "code",
      "execution_count": 24,
      "metadata": {
        "colab": {
          "base_uri": "https://localhost:8080/",
          "height": 484
        },
        "id": "5zEkrvfcCpYO",
        "outputId": "5e1cd8a0-936b-4ef7-dd08-a1f79678c488"
      },
      "outputs": [
        {
          "output_type": "execute_result",
          "data": {
            "text/plain": [
              "<matplotlib.axes._subplots.AxesSubplot at 0x7f897fbf3a50>"
            ]
          },
          "metadata": {},
          "execution_count": 24
        },
        {
          "output_type": "display_data",
          "data": {
            "image/png": "[encoded data removed]",
            "text/plain": [
              "<Figure size 432x288 with 1 Axes>"
            ]
          },
          "metadata": {
            "needs_background": "light"
          }
        }
      ],
      "source": [
        "#  other diseases that are colabarate with pneumonia\n",
        "data[data.Pneumonia==1]['Finding Labels'].value_counts()[0:10].plot(kind='bar', title='Pneumonia that are Colabarate with other diseases (Top 10)')"
      ]
    },
    {
      "cell_type": "code",
      "execution_count": 25,
      "metadata": {
        "id": "4A1lAwRFCpYP"
      },
      "outputs": [],
      "source": [
        "# Number of disease per patient\n",
        "num_diseases = []\n",
        "for row in plots.iterrows():\n",
        "    num_diseases.append(sum(row[1].values))\n",
        "mySer = pd.Series(num_diseases)"
      ]
    },
    {
      "cell_type": "code",
      "execution_count": 26,
      "metadata": {
        "colab": {
          "base_uri": "https://localhost:8080/",
          "height": 304
        },
        "id": "xHyAjcEXCpYP",
        "outputId": "a2443b83-12ff-4701-bb80-1aab516dc2e9"
      },
      "outputs": [
        {
          "output_type": "execute_result",
          "data": {
            "text/plain": [
              "<matplotlib.axes._subplots.AxesSubplot at 0x7f897fbd65d0>"
            ]
          },
          "metadata": {},
          "execution_count": 26
        },
        {
          "output_type": "display_data",
          "data": {
            "image/png": "[encoded data removed]",
            "text/plain": [
              "<Figure size 432x288 with 1 Axes>"
            ]
          },
          "metadata": {
            "needs_background": "light"
          }
        }
      ],
      "source": [
        "mySer.value_counts().plot(kind='bar',title='Number of Diseases Count per Patient')"
      ]
    },
    {
      "cell_type": "markdown",
      "metadata": {
        "id": "si_-UHrACpYQ"
      },
      "source": [
        "#  plots just one of each  type"
      ]
    },
    {
      "cell_type": "code",
      "execution_count": 27,
      "metadata": {
        "id": "czW40jzzCpYQ"
      },
      "outputs": [],
      "source": [
        "sample = pd.read_csv('sample_labels.csv')\n",
        "sample_paths = {os.path.basename(y): y for y       \n",
        "                     in glob(os.path.join('/data','images*', '*', \n",
        "                     '*.png'))}\n",
        "sample['path'] = sample['Image Index'].map(sample_paths.get)"
      ]
    },
    {
      "cell_type": "code",
      "execution_count": 30,
      "metadata": {
        "colab": {
          "base_uri": "https://localhost:8080/",
          "height": 461
        },
        "id": "WZgAjXtxCpYR",
        "outputId": "c169e726-900f-44f9-b25b-01fc7390f85c"
      },
      "outputs": [
        {
          "output_type": "execute_result",
          "data": {
            "text/html": [
              "<div>\n",
              "<style scoped>\n",
              "    .dataframe tbody tr th:only-of-type {\n",
              "        vertical-align: middle;\n",
              "    }\n",
              "\n",
              "    .dataframe tbody tr th {\n",
              "        vertical-align: top;\n",
              "    }\n",
              "\n",
              "    .dataframe thead th {\n",
              "        text-align: right;\n",
              "    }\n",
              "</style>\n",
              "<table border=\"1\" class=\"dataframe\">\n",
              "  <thead>\n",
              "    <tr style=\"text-align: right;\">\n",
              "      <th></th>\n",
              "      <th>Image Index</th>\n",
              "      <th>Finding Labels</th>\n",
              "      <th>Follow-up #</th>\n",
              "      <th>Patient ID</th>\n",
              "      <th>Patient Age</th>\n",
              "      <th>Patient Gender</th>\n",
              "      <th>View Position</th>\n",
              "      <th>OriginalImageWidth</th>\n",
              "      <th>OriginalImageHeight</th>\n",
              "      <th>OriginalImagePixelSpacing_x</th>\n",
              "      <th>OriginalImagePixelSpacing_y</th>\n",
              "      <th>path</th>\n",
              "      <th>Atelectasis</th>\n",
              "      <th>Cardiomegaly</th>\n",
              "      <th>Consolidation</th>\n",
              "      <th>Edema</th>\n",
              "      <th>Effusion</th>\n",
              "      <th>Emphysema</th>\n",
              "      <th>Fibrosis</th>\n",
              "      <th>Hernia</th>\n",
              "      <th>Infiltration</th>\n",
              "      <th>Mass</th>\n",
              "      <th>No Finding</th>\n",
              "      <th>Nodule</th>\n",
              "      <th>Pleural_Thickening</th>\n",
              "      <th>Pneumonia</th>\n",
              "      <th>Pneumothorax</th>\n",
              "    </tr>\n",
              "  </thead>\n",
              "  <tbody>\n",
              "    <tr>\n",
              "      <th>0</th>\n",
              "      <td>00000013_005.png</td>\n",
              "      <td>Emphysema|Infiltration|Pleural_Thickening|Pneu...</td>\n",
              "      <td>5</td>\n",
              "      <td>13</td>\n",
              "      <td>060Y</td>\n",
              "      <td>M</td>\n",
              "      <td>AP</td>\n",
              "      <td>3056</td>\n",
              "      <td>2544</td>\n",
              "      <td>0.139</td>\n",
              "      <td>0.139</td>\n",
              "      <td>None</td>\n",
              "      <td>NaN</td>\n",
              "      <td>NaN</td>\n",
              "      <td>NaN</td>\n",
              "      <td>NaN</td>\n",
              "      <td>NaN</td>\n",
              "      <td>NaN</td>\n",
              "      <td>NaN</td>\n",
              "      <td>NaN</td>\n",
              "      <td>NaN</td>\n",
              "      <td>NaN</td>\n",
              "      <td>NaN</td>\n",
              "      <td>NaN</td>\n",
              "      <td>NaN</td>\n",
              "      <td>NaN</td>\n",
              "      <td>NaN</td>\n",
              "    </tr>\n",
              "    <tr>\n",
              "      <th>1</th>\n",
              "      <td>00000013_026.png</td>\n",
              "      <td>Cardiomegaly|Emphysema</td>\n",
              "      <td>26</td>\n",
              "      <td>13</td>\n",
              "      <td>057Y</td>\n",
              "      <td>M</td>\n",
              "      <td>AP</td>\n",
              "      <td>2500</td>\n",
              "      <td>2048</td>\n",
              "      <td>0.168</td>\n",
              "      <td>0.168</td>\n",
              "      <td>None</td>\n",
              "      <td>NaN</td>\n",
              "      <td>NaN</td>\n",
              "      <td>NaN</td>\n",
              "      <td>NaN</td>\n",
              "      <td>NaN</td>\n",
              "      <td>NaN</td>\n",
              "      <td>NaN</td>\n",
              "      <td>NaN</td>\n",
              "      <td>NaN</td>\n",
              "      <td>NaN</td>\n",
              "      <td>NaN</td>\n",
              "      <td>NaN</td>\n",
              "      <td>NaN</td>\n",
              "      <td>NaN</td>\n",
              "      <td>NaN</td>\n",
              "    </tr>\n",
              "    <tr>\n",
              "      <th>2</th>\n",
              "      <td>00000017_001.png</td>\n",
              "      <td>No Finding</td>\n",
              "      <td>1</td>\n",
              "      <td>17</td>\n",
              "      <td>077Y</td>\n",
              "      <td>M</td>\n",
              "      <td>AP</td>\n",
              "      <td>2500</td>\n",
              "      <td>2048</td>\n",
              "      <td>0.168</td>\n",
              "      <td>0.168</td>\n",
              "      <td>None</td>\n",
              "      <td>NaN</td>\n",
              "      <td>NaN</td>\n",
              "      <td>NaN</td>\n",
              "      <td>NaN</td>\n",
              "      <td>NaN</td>\n",
              "      <td>NaN</td>\n",
              "      <td>NaN</td>\n",
              "      <td>NaN</td>\n",
              "      <td>NaN</td>\n",
              "      <td>NaN</td>\n",
              "      <td>NaN</td>\n",
              "      <td>NaN</td>\n",
              "      <td>NaN</td>\n",
              "      <td>NaN</td>\n",
              "      <td>NaN</td>\n",
              "    </tr>\n",
              "    <tr>\n",
              "      <th>3</th>\n",
              "      <td>00000030_001.png</td>\n",
              "      <td>Atelectasis</td>\n",
              "      <td>1</td>\n",
              "      <td>30</td>\n",
              "      <td>079Y</td>\n",
              "      <td>M</td>\n",
              "      <td>PA</td>\n",
              "      <td>2992</td>\n",
              "      <td>2991</td>\n",
              "      <td>0.143</td>\n",
              "      <td>0.143</td>\n",
              "      <td>None</td>\n",
              "      <td>NaN</td>\n",
              "      <td>NaN</td>\n",
              "      <td>NaN</td>\n",
              "      <td>NaN</td>\n",
              "      <td>NaN</td>\n",
              "      <td>NaN</td>\n",
              "      <td>NaN</td>\n",
              "      <td>NaN</td>\n",
              "      <td>NaN</td>\n",
              "      <td>NaN</td>\n",
              "      <td>NaN</td>\n",
              "      <td>NaN</td>\n",
              "      <td>NaN</td>\n",
              "      <td>NaN</td>\n",
              "      <td>NaN</td>\n",
              "    </tr>\n",
              "    <tr>\n",
              "      <th>4</th>\n",
              "      <td>00000032_001.png</td>\n",
              "      <td>Cardiomegaly|Edema|Effusion</td>\n",
              "      <td>1</td>\n",
              "      <td>32</td>\n",
              "      <td>055Y</td>\n",
              "      <td>F</td>\n",
              "      <td>AP</td>\n",
              "      <td>2500</td>\n",
              "      <td>2048</td>\n",
              "      <td>0.168</td>\n",
              "      <td>0.168</td>\n",
              "      <td>None</td>\n",
              "      <td>NaN</td>\n",
              "      <td>NaN</td>\n",
              "      <td>NaN</td>\n",
              "      <td>NaN</td>\n",
              "      <td>NaN</td>\n",
              "      <td>NaN</td>\n",
              "      <td>NaN</td>\n",
              "      <td>NaN</td>\n",
              "      <td>NaN</td>\n",
              "      <td>NaN</td>\n",
              "      <td>NaN</td>\n",
              "      <td>NaN</td>\n",
              "      <td>NaN</td>\n",
              "      <td>NaN</td>\n",
              "      <td>NaN</td>\n",
              "    </tr>\n",
              "    <tr>\n",
              "      <th>...</th>\n",
              "      <td>...</td>\n",
              "      <td>...</td>\n",
              "      <td>...</td>\n",
              "      <td>...</td>\n",
              "      <td>...</td>\n",
              "      <td>...</td>\n",
              "      <td>...</td>\n",
              "      <td>...</td>\n",
              "      <td>...</td>\n",
              "      <td>...</td>\n",
              "      <td>...</td>\n",
              "      <td>...</td>\n",
              "      <td>...</td>\n",
              "      <td>...</td>\n",
              "      <td>...</td>\n",
              "      <td>...</td>\n",
              "      <td>...</td>\n",
              "      <td>...</td>\n",
              "      <td>...</td>\n",
              "      <td>...</td>\n",
              "      <td>...</td>\n",
              "      <td>...</td>\n",
              "      <td>...</td>\n",
              "      <td>...</td>\n",
              "      <td>...</td>\n",
              "      <td>...</td>\n",
              "      <td>...</td>\n",
              "    </tr>\n",
              "    <tr>\n",
              "      <th>4242</th>\n",
              "      <td>00020900_002.png</td>\n",
              "      <td>No Finding</td>\n",
              "      <td>2</td>\n",
              "      <td>20900</td>\n",
              "      <td>411Y</td>\n",
              "      <td>M</td>\n",
              "      <td>AP</td>\n",
              "      <td>3056</td>\n",
              "      <td>2544</td>\n",
              "      <td>0.139</td>\n",
              "      <td>0.139</td>\n",
              "      <td>NaN</td>\n",
              "      <td>0.0</td>\n",
              "      <td>0.0</td>\n",
              "      <td>0.0</td>\n",
              "      <td>0.0</td>\n",
              "      <td>0.0</td>\n",
              "      <td>0.0</td>\n",
              "      <td>0.0</td>\n",
              "      <td>0.0</td>\n",
              "      <td>0.0</td>\n",
              "      <td>0.0</td>\n",
              "      <td>1.0</td>\n",
              "      <td>0.0</td>\n",
              "      <td>0.0</td>\n",
              "      <td>0.0</td>\n",
              "      <td>0.0</td>\n",
              "    </tr>\n",
              "    <tr>\n",
              "      <th>2939</th>\n",
              "      <td>00014438_005.png</td>\n",
              "      <td>Nodule</td>\n",
              "      <td>5</td>\n",
              "      <td>14438</td>\n",
              "      <td>054Y</td>\n",
              "      <td>F</td>\n",
              "      <td>PA</td>\n",
              "      <td>2892</td>\n",
              "      <td>2948</td>\n",
              "      <td>0.143</td>\n",
              "      <td>0.143</td>\n",
              "      <td>NaN</td>\n",
              "      <td>0.0</td>\n",
              "      <td>0.0</td>\n",
              "      <td>0.0</td>\n",
              "      <td>0.0</td>\n",
              "      <td>0.0</td>\n",
              "      <td>0.0</td>\n",
              "      <td>0.0</td>\n",
              "      <td>0.0</td>\n",
              "      <td>0.0</td>\n",
              "      <td>0.0</td>\n",
              "      <td>0.0</td>\n",
              "      <td>1.0</td>\n",
              "      <td>0.0</td>\n",
              "      <td>0.0</td>\n",
              "      <td>0.0</td>\n",
              "    </tr>\n",
              "    <tr>\n",
              "      <th>4530</th>\n",
              "      <td>00022600_001.png</td>\n",
              "      <td>Pleural_Thickening</td>\n",
              "      <td>1</td>\n",
              "      <td>22600</td>\n",
              "      <td>067Y</td>\n",
              "      <td>M</td>\n",
              "      <td>PA</td>\n",
              "      <td>2992</td>\n",
              "      <td>2991</td>\n",
              "      <td>0.143</td>\n",
              "      <td>0.143</td>\n",
              "      <td>NaN</td>\n",
              "      <td>0.0</td>\n",
              "      <td>0.0</td>\n",
              "      <td>0.0</td>\n",
              "      <td>0.0</td>\n",
              "      <td>0.0</td>\n",
              "      <td>0.0</td>\n",
              "      <td>0.0</td>\n",
              "      <td>0.0</td>\n",
              "      <td>0.0</td>\n",
              "      <td>0.0</td>\n",
              "      <td>0.0</td>\n",
              "      <td>0.0</td>\n",
              "      <td>1.0</td>\n",
              "      <td>0.0</td>\n",
              "      <td>0.0</td>\n",
              "    </tr>\n",
              "    <tr>\n",
              "      <th>4459</th>\n",
              "      <td>00022192_032.png</td>\n",
              "      <td>Pneumonia</td>\n",
              "      <td>32</td>\n",
              "      <td>22192</td>\n",
              "      <td>073Y</td>\n",
              "      <td>M</td>\n",
              "      <td>PA</td>\n",
              "      <td>2992</td>\n",
              "      <td>2991</td>\n",
              "      <td>0.143</td>\n",
              "      <td>0.143</td>\n",
              "      <td>NaN</td>\n",
              "      <td>0.0</td>\n",
              "      <td>0.0</td>\n",
              "      <td>0.0</td>\n",
              "      <td>0.0</td>\n",
              "      <td>0.0</td>\n",
              "      <td>0.0</td>\n",
              "      <td>0.0</td>\n",
              "      <td>0.0</td>\n",
              "      <td>0.0</td>\n",
              "      <td>0.0</td>\n",
              "      <td>0.0</td>\n",
              "      <td>0.0</td>\n",
              "      <td>0.0</td>\n",
              "      <td>1.0</td>\n",
              "      <td>0.0</td>\n",
              "    </tr>\n",
              "    <tr>\n",
              "      <th>779</th>\n",
              "      <td>00004088_001.png</td>\n",
              "      <td>Pneumothorax</td>\n",
              "      <td>1</td>\n",
              "      <td>4088</td>\n",
              "      <td>050Y</td>\n",
              "      <td>F</td>\n",
              "      <td>PA</td>\n",
              "      <td>2048</td>\n",
              "      <td>2500</td>\n",
              "      <td>0.171</td>\n",
              "      <td>0.171</td>\n",
              "      <td>NaN</td>\n",
              "      <td>0.0</td>\n",
              "      <td>0.0</td>\n",
              "      <td>0.0</td>\n",
              "      <td>0.0</td>\n",
              "      <td>0.0</td>\n",
              "      <td>0.0</td>\n",
              "      <td>0.0</td>\n",
              "      <td>0.0</td>\n",
              "      <td>0.0</td>\n",
              "      <td>0.0</td>\n",
              "      <td>0.0</td>\n",
              "      <td>0.0</td>\n",
              "      <td>0.0</td>\n",
              "      <td>0.0</td>\n",
              "      <td>1.0</td>\n",
              "    </tr>\n",
              "  </tbody>\n",
              "</table>\n",
              "<p>5621 rows × 27 columns</p>\n",
              "</div>"
            ],
            "text/plain": [
              "           Image Index  ... Pneumothorax\n",
              "0     00000013_005.png  ...          NaN\n",
              "1     00000013_026.png  ...          NaN\n",
              "2     00000017_001.png  ...          NaN\n",
              "3     00000030_001.png  ...          NaN\n",
              "4     00000032_001.png  ...          NaN\n",
              "...                ...  ...          ...\n",
              "4242  00020900_002.png  ...          0.0\n",
              "2939  00014438_005.png  ...          0.0\n",
              "4530  00022600_001.png  ...          0.0\n",
              "4459  00022192_032.png  ...          0.0\n",
              "779   00004088_001.png  ...          1.0\n",
              "\n",
              "[5621 rows x 27 columns]"
            ]
          },
          "metadata": {},
          "execution_count": 30
        }
      ],
      "source": [
        "#new_data = pd.DataFrame(columns=df.columns)\n",
        "new_data = sample\n",
        "for label1 in all_labels:\n",
        "    df = data.loc[data['Finding Labels']==label1].sample(1)\n",
        "    new_data = new_data.append(df)\n",
        "new_data"
      ]
    }
  ],
  "metadata": {
    "kernelspec": {
      "display_name": "Python 3",
      "language": "python",
      "name": "python3"
    },
    "language_info": {
      "codemirror_mode": {
        "name": "ipython",
        "version": 3
      },
      "file_extension": ".py",
      "mimetype": "text/x-python",
      "name": "python",
      "nbconvert_exporter": "python",
      "pygments_lexer": "ipython3",
      "version": "3.7.6"
    },
    "colab": {
      "name": "EDA.ipynb",
      "provenance": []
    }
  },
  "nbformat": 4,
  "nbformat_minor": 0
}